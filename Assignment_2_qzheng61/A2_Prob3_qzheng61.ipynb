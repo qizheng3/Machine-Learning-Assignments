{
 "cells": [
  {
   "cell_type": "markdown",
   "metadata": {},
   "source": [
    "# CSE 6240 Homework 2  \n",
    "## Problem 3. ImageNet\n",
    "\n",
    "__Name: Qi Zheng__  \n",
    "__GTID: qzheng61__\n",
    "\n",
    "### Notes:\n",
    "__Results are summarized at the beginning of each section.__"
   ]
  },
  {
   "cell_type": "code",
   "execution_count": 795,
   "metadata": {
    "collapsed": false
   },
   "outputs": [],
   "source": [
    "import os\n",
    "import glob\n",
    "import numpy as np\n",
    "from keras.layers import Input, Dense, Conv2D, MaxPooling2D, UpSampling2D\n",
    "from keras.models import Model\n",
    "from keras import backend as K\n",
    "from keras.callbacks import TensorBoard\n",
    "from sklearn.metrics import mean_squared_error\n",
    "from sklearn.metrics.pairwise import euclidean_distances\n",
    "import matplotlib.pyplot as plt\n",
    "from skimage.io import imread\n",
    "from scipy.misc import imresize\n",
    "from PIL import Image\n",
    "from sklearn.metrics.pairwise import euclidean_distances\n",
    "from sklearn.model_selection import train_test_split\n",
    "from keras.models import model_from_json\n",
    "from sklearn.decomposition import PCA\n",
    "from sklearn.decomposition import TruncatedSVD\n",
    "from skimage import color\n",
    "from collections import Counter\n",
    "from IPython.display import display\n",
    "from pandas import DataFrame as DF"
   ]
  },
  {
   "cell_type": "code",
   "execution_count": 16,
   "metadata": {
    "collapsed": true
   },
   "outputs": [],
   "source": [
    "np.random.seed(seed=0)"
   ]
  },
  {
   "cell_type": "markdown",
   "metadata": {},
   "source": [
    "## 1. Image Pre-processing"
   ]
  },
  {
   "cell_type": "code",
   "execution_count": 3,
   "metadata": {
    "collapsed": false
   },
   "outputs": [],
   "source": [
    "try:\n",
    "    images = np.load('ImageNet_img.npy')\n",
    "    labels = np.load('ImageNet_Labl.npy')\n",
    "\n",
    "except:\n",
    "    foldername = [\"n00017222_Plant\", \"n09287968_Geo\", \"n12992868_Fungus\",\n",
    "                  \"n00523513_Sport\", \"n00007846_Person\", \"n00015388_Animal\"]\n",
    "    labels = []\n",
    "    images = []\n",
    "    lb = -1\n",
    "\n",
    "    for folder in foldername:\n",
    "        lb += 1\n",
    "        flist = glob.glob(folder +'/*.JPEG')\n",
    "        for fpath in flist:\n",
    "            x = imread(fpath)\n",
    "            if len(x.shape) == 3:\n",
    "                x = imresize(x, (64,64,3))\n",
    "                images.append(x)\n",
    "                labels.append(lb)\n"
   ]
  },
  {
   "cell_type": "code",
   "execution_count": 4,
   "metadata": {
    "collapsed": false
   },
   "outputs": [],
   "source": [
    "images = np.array(images)\n",
    "labels = np.array(labels)    "
   ]
  },
  {
   "cell_type": "code",
   "execution_count": 5,
   "metadata": {
    "collapsed": false
   },
   "outputs": [
    {
     "data": {
      "text/plain": [
       "(8973, 64, 64, 3)"
      ]
     },
     "execution_count": 5,
     "metadata": {},
     "output_type": "execute_result"
    }
   ],
   "source": [
    "images.shape"
   ]
  },
  {
   "cell_type": "code",
   "execution_count": 846,
   "metadata": {
    "collapsed": false
   },
   "outputs": [
    {
     "data": {
      "image/png": "[encoded data removed]",
      "text/plain": [
       "<matplotlib.figure.Figure at 0x13f827550>"
      ]
     },
     "metadata": {},
     "output_type": "display_data"
    }
   ],
   "source": [
    "# Open a random image to check if images have been loaded and resized successfully.\n",
    "\n",
    "plt.imshow(images[1])\n",
    "plt.show()"
   ]
  },
  {
   "cell_type": "code",
   "execution_count": 8,
   "metadata": {
    "collapsed": false
   },
   "outputs": [],
   "source": [
    "np.save('ImageNet_img', images)\n",
    "np.save('ImageNet_Labl', labels)"
   ]
  },
  {
   "cell_type": "code",
   "execution_count": 17,
   "metadata": {
    "collapsed": true
   },
   "outputs": [],
   "source": [
    "X_img = np.copy(images)\n",
    "Y_lab = np.copy(labels)"
   ]
  },
  {
   "cell_type": "code",
   "execution_count": 21,
   "metadata": {
    "collapsed": false
   },
   "outputs": [],
   "source": [
    "x_train, x_test, y_train, y_test = train_test_split(X_img, Y_lab, test_size=0.2, random_state=0)"
   ]
  },
  {
   "cell_type": "code",
   "execution_count": 488,
   "metadata": {
    "collapsed": true
   },
   "outputs": [],
   "source": [
    "y_train = y_train.astype(int)\n",
    "y_test = y_test.astype(int)"
   ]
  },
  {
   "cell_type": "markdown",
   "metadata": {},
   "source": [
    "## 2. Convert the Images to Vectors (4 ways)"
   ]
  },
  {
   "cell_type": "markdown",
   "metadata": {},
   "source": [
    "## Autoencoder"
   ]
  },
  {
   "cell_type": "code",
   "execution_count": 133,
   "metadata": {
    "collapsed": true
   },
   "outputs": [],
   "source": [
    "input_img = Input(shape=(64, 64, 3))\n",
    "\n",
    "\n",
    "x = Conv2D(32, (3, 3), activation='relu', padding='same')(input_img)\n",
    "x = MaxPooling2D((2, 2), padding='same')(x)\n",
    "x = Conv2D(16, (3, 3), activation='relu', padding='same')(x)\n",
    "x = MaxPooling2D((2, 2), padding='same')(x)\n",
    "x = Conv2D(8, (3, 3), activation='relu', padding='same')(x)\n",
    "encoded = MaxPooling2D((2, 2), padding='same')(x)\n",
    "\n",
    "\n",
    "x = Conv2D(8, (3, 3), activation='relu', padding='same')(encoded)\n",
    "x = UpSampling2D((2, 2))(x)\n",
    "x = Conv2D(16, (3, 3), activation='relu', padding='same')(x)\n",
    "x = UpSampling2D((2, 2))(x)\n",
    "x = Conv2D(32, (3, 3), activation='relu', padding='same')(x)\n",
    "x = UpSampling2D((2, 2))(x)\n",
    "decoded = Conv2D(3, (3, 3), activation='sigmoid', padding='same')(x)\n",
    "\n",
    "autoencoder = Model(input_img, decoded)\n",
    "encoder = Model(input_img, encoded)\n",
    "autoencoder.compile(optimizer='adadelta', loss='binary_crossentropy', metrics=['mse'])"
   ]
  },
  {
   "cell_type": "code",
   "execution_count": 134,
   "metadata": {
    "collapsed": true
   },
   "outputs": [],
   "source": [
    "ae_train = np.copy(x_train)\n",
    "ae_test = np.copy(x_test)\n",
    "\n",
    "ae_train = ae_train.astype('float32') / 255.\n",
    "ae_test = ae_test.astype('float32') / 255.\n",
    "\n",
    "# ae_train = ae_train.reshape((len(ae_train), np.prod(ae_train.shape[1:])))\n",
    "# ae_test = ae_test.reshape((len(ae_test), np.prod(ae_test.shape[1:])))"
   ]
  },
  {
   "cell_type": "code",
   "execution_count": 135,
   "metadata": {
    "collapsed": false
   },
   "outputs": [
    {
     "name": "stdout",
     "output_type": "stream",
     "text": [
      "Train on 7178 samples, validate on 1795 samples\n",
      "Epoch 1/10\n",
      "95s - loss: 0.6554 - mean_squared_error: 0.0523 - val_loss: 0.5994 - val_mean_squared_error: 0.0269\n",
      "Epoch 2/10\n",
      "95s - loss: 0.5951 - mean_squared_error: 0.0254 - val_loss: 0.5881 - val_mean_squared_error: 0.0223\n",
      "Epoch 3/10\n",
      "100s - loss: 0.5813 - mean_squared_error: 0.0195 - val_loss: 0.5730 - val_mean_squared_error: 0.0162\n",
      "Epoch 4/10\n",
      "103s - loss: 0.5737 - mean_squared_error: 0.0164 - val_loss: 0.5676 - val_mean_squared_error: 0.0137\n",
      "Epoch 5/10\n",
      "102s - loss: 0.5695 - mean_squared_error: 0.0147 - val_loss: 0.5647 - val_mean_squared_error: 0.0128\n",
      "Epoch 6/10\n",
      "96s - loss: 0.5661 - mean_squared_error: 0.0133 - val_loss: 0.5670 - val_mean_squared_error: 0.0137\n",
      "Epoch 7/10\n",
      "96s - loss: 0.5640 - mean_squared_error: 0.0125 - val_loss: 0.5593 - val_mean_squared_error: 0.0107\n",
      "Epoch 8/10\n",
      "96s - loss: 0.5617 - mean_squared_error: 0.0116 - val_loss: 0.5628 - val_mean_squared_error: 0.0119\n",
      "Epoch 9/10\n",
      "96s - loss: 0.5599 - mean_squared_error: 0.0109 - val_loss: 0.5586 - val_mean_squared_error: 0.0104\n",
      "Epoch 10/10\n",
      "96s - loss: 0.5589 - mean_squared_error: 0.0105 - val_loss: 0.5569 - val_mean_squared_error: 0.0098\n"
     ]
    },
    {
     "data": {
      "text/plain": [
       "<keras.callbacks.History at 0x13b469da0>"
      ]
     },
     "execution_count": 135,
     "metadata": {},
     "output_type": "execute_result"
    }
   ],
   "source": [
    "autoencoder.fit(ae_train, ae_train,\n",
    "                epochs=2,\n",
    "                batch_size=128,\n",
    "                shuffle=True,\n",
    "                validation_data=(ae_test, ae_test),\n",
    "                callbacks=[TensorBoard(log_dir='/tmp/autoencoder')],\n",
    "                verbose=2)"
   ]
  },
  {
   "cell_type": "markdown",
   "metadata": {},
   "source": [
    "__Save the trained autoencoder (model) for future use.__"
   ]
  },
  {
   "cell_type": "code",
   "execution_count": 136,
   "metadata": {
    "collapsed": false
   },
   "outputs": [
    {
     "name": "stdout",
     "output_type": "stream",
     "text": [
      "Saved autoencoder model to disk\n",
      "Saved encoder model to disk\n"
     ]
    }
   ],
   "source": [
    "# serialize model to JSON\n",
    "autoencoder_json = autoencoder.to_json()\n",
    "with open(\"autoencoder.json\", \"w\") as json_file:\n",
    "    json_file.write(autoencoder_json)\n",
    "# serialize weights to HDF5\n",
    "autoencoder.save_weights(\"autoencoder.h5\")\n",
    "print(\"Saved autoencoder model to disk\")\n",
    "\n",
    "# serialize model to JSON\n",
    "encoder_json = encoder.to_json()\n",
    "with open(\"encoder.json\", \"w\") as json_file:\n",
    "    json_file.write(encoder_json)\n",
    "# serialize weights to HDF5\n",
    "encoder.save_weights(\"encoder.h5\")\n",
    "print(\"Saved encoder model to disk\")\n",
    "\n",
    "# # REUSE\n",
    "# # load json and create model\n",
    "# json_file = open('autoencoder.json', 'r')\n",
    "# loaded_model_json = json_file.read()\n",
    "# json_file.close()\n",
    "# loaded_model = model_from_json(loaded_model_json)\n",
    "# # load weights into new model\n",
    "# loaded_model.load_weights(\"autoencoder.h5\")\n",
    "# print(\"Loaded model from disk\")\n",
    "\n",
    "# # load json and create model\n",
    "# json_file = open('encoder.json', 'r')\n",
    "# loaded_model_json = json_file.read()\n",
    "# json_file.close()\n",
    "# loaded_model = model_from_json(loaded_model_json)\n",
    "# # load weights into new model\n",
    "# loaded_model.load_weights(\"encoder.h5\")\n",
    "# print(\"Loaded model from disk\")\n",
    "\n",
    "# # Use loaded model on test data\n",
    "# loaded_model.compile(loss='binary_crossentropy', optimizer='rmsprop', metrics=['accuracy'])\n",
    "# encoder = loaded_model\n",
    "# print(\"%s: %.2f%%\" % (loaded_model.metrics_names[1], score[1]*100))\n"
   ]
  },
  {
   "cell_type": "code",
   "execution_count": 137,
   "metadata": {
    "collapsed": true
   },
   "outputs": [],
   "source": [
    "ae_train_encoded = encoder.predict(ae_train)\n",
    "ae_test_encoded = encoder.predict(ae_test)"
   ]
  },
  {
   "cell_type": "code",
   "execution_count": 151,
   "metadata": {
    "collapsed": false
   },
   "outputs": [
    {
     "name": "stdout",
     "output_type": "stream",
     "text": [
      "(7178, 16, 16, 32)\n",
      "(1795, 16, 16, 32)\n"
     ]
    }
   ],
   "source": [
    "print(ae_train_encoded.shape)\n",
    "print(ae_test_encoded.shape)"
   ]
  },
  {
   "cell_type": "code",
   "execution_count": 154,
   "metadata": {
    "collapsed": false
   },
   "outputs": [],
   "source": [
    "aetr_vec = []\n",
    "for tr in ae_train_encoded:\n",
    "    aetr_vec.append(tr.flatten())\n",
    "aetr_vec = np.array(aetr_vec)\n",
    "\n",
    "aets_vec = []\n",
    "for ts in ae_test_encoded:\n",
    "    aets_vec.append(ts.flatten())\n",
    "aets_vec = np.array(aets_vec)"
   ]
  },
  {
   "cell_type": "code",
   "execution_count": 157,
   "metadata": {
    "collapsed": true
   },
   "outputs": [],
   "source": [
    "np.save('ae_train', ae_train)\n",
    "np.save('ae_test', ae_test)\n",
    "np.save('ae_train_encoded', ae_train_encoded)\n",
    "np.save('ae_test_encoded', ae_test_encoded)"
   ]
  },
  {
   "cell_type": "code",
   "execution_count": 158,
   "metadata": {
    "collapsed": false
   },
   "outputs": [
    {
     "name": "stdout",
     "output_type": "stream",
     "text": [
      "(7178, 8192)\n",
      "(1795, 8192)\n"
     ]
    }
   ],
   "source": [
    "print(aetr_vec.shape)\n",
    "print(aets_vec.shape)"
   ]
  },
  {
   "cell_type": "markdown",
   "metadata": {},
   "source": [
    "## SVD"
   ]
  },
  {
   "cell_type": "code",
   "execution_count": 384,
   "metadata": {
    "collapsed": true
   },
   "outputs": [],
   "source": [
    "svd_train = np.copy(x_train)\n",
    "svd_test = np.copy(x_test)"
   ]
  },
  {
   "cell_type": "code",
   "execution_count": 535,
   "metadata": {
    "collapsed": false
   },
   "outputs": [
    {
     "name": "stdout",
     "output_type": "stream",
     "text": [
      "(7178, 12288)\n",
      "(1795, 12288)\n"
     ]
    }
   ],
   "source": [
    "svd_train = np.array([tr.flatten() for tr in svd_train])\n",
    "svd_test = np.array([ts.flatten() for ts in svd_test])\n",
    "\n",
    "print(svd_train.shape)\n",
    "print(svd_test.shape)\n",
    "\n",
    "pca_encoder = PCA(n_components=600)\n",
    "svd_tr_encoded = pca_encoder.fit_transform(svd_train)\n",
    "svd_ts_encoded = pca_encoder.transform(svd_test)"
   ]
  },
  {
   "cell_type": "code",
   "execution_count": 536,
   "metadata": {
    "collapsed": false
   },
   "outputs": [
    {
     "name": "stdout",
     "output_type": "stream",
     "text": [
      "(7178, 600)\n",
      "(1795, 600)\n"
     ]
    }
   ],
   "source": [
    "print(svd_tr_encoded.shape)\n",
    "print(svd_ts_encoded.shape)"
   ]
  },
  {
   "cell_type": "markdown",
   "metadata": {},
   "source": [
    "## RGB Histograms "
   ]
  },
  {
   "cell_type": "code",
   "execution_count": 215,
   "metadata": {
    "collapsed": false
   },
   "outputs": [],
   "source": [
    "def rgb_hist(img):\n",
    "    RGB_ct = np.zeros(shape=(3, 256))\n",
    "    for i in range(3):\n",
    "        channel = img[:,:,i].flatten()\n",
    "        for val in channel:\n",
    "            RGB_ct[i][val]+=1\n",
    "    return RGB_ct"
   ]
  },
  {
   "cell_type": "markdown",
   "metadata": {},
   "source": [
    "--------------------------------------------------------------------------------------------------------------------  \n",
    "#### The following codes are just used for accuracy checking: plot RGB histograms for a random image to check the accuracy. "
   ]
  },
  {
   "cell_type": "code",
   "execution_count": 277,
   "metadata": {
    "collapsed": false
   },
   "outputs": [
    {
     "name": "stdout",
     "output_type": "stream",
     "text": [
      "\n",
      "\n",
      "Sample: RGB Histograms for images[1]\n"
     ]
    },
    {
     "data": {
      "image/png": "[encoded data removed]",
      "text/plain": [
       "<matplotlib.figure.Figure at 0x1bf0a5048>"
      ]
     },
     "metadata": {},
     "output_type": "display_data"
    }
   ],
   "source": [
    "RGB = rgb_hist(images[1])\n",
    "colors = ['R', 'G', 'B']\n",
    "print('\\n\\nSample: RGB Histograms for images[1]')\n",
    "plt.figure(figsize=(20, 6))\n",
    "\n",
    "for i in range(3):\n",
    "    ax = plt.subplot(2, 3, i + 1)\n",
    "    plt.title(colors[i])\n",
    "    plt.bar(np.array(range(256)), RGB[i])\n",
    "plt.show()"
   ]
  },
  {
   "cell_type": "code",
   "execution_count": 323,
   "metadata": {
    "collapsed": false
   },
   "outputs": [
    {
     "name": "stdout",
     "output_type": "stream",
     "text": [
      "\n",
      "\n",
      "Sample: RGB Histograms for images[1](for comparison)\n"
     ]
    },
    {
     "data": {
      "image/png": "[encoded data removed]",
      "text/plain": [
       "<matplotlib.figure.Figure at 0x269076e48>"
      ]
     },
     "metadata": {},
     "output_type": "display_data"
    }
   ],
   "source": [
    "print('\\n\\nSample: RGB Histograms for images[1](for comparison)')\n",
    "plt.figure(figsize=(20, 6))\n",
    "for i in range(3):\n",
    "    ax = plt.subplot(2, 3, i + 1)\n",
    "    plt.title(colors[i])\n",
    "    plt.hist(images[1][:,:,i].flatten(), bins=np.array(range(256)), color = 'g')\n",
    "plt.show()"
   ]
  },
  {
   "cell_type": "markdown",
   "metadata": {},
   "source": [
    "----------------------------------------------------------------------------------------------------------------------"
   ]
  },
  {
   "cell_type": "code",
   "execution_count": 392,
   "metadata": {
    "collapsed": true
   },
   "outputs": [],
   "source": [
    "RGB_tr_vec = np.array([rgb_count(tr) for tr in x_train])\n",
    "RGB_ts_vec = np.array([rgb_count(ts) for ts in x_test])"
   ]
  },
  {
   "cell_type": "code",
   "execution_count": 393,
   "metadata": {
    "collapsed": false
   },
   "outputs": [
    {
     "name": "stdout",
     "output_type": "stream",
     "text": [
      "(7178, 3, 256)\n",
      "(1795, 3, 256)\n"
     ]
    }
   ],
   "source": [
    "print(RGB_tr_vec.shape)\n",
    "print(RGB_ts_vec.shape)"
   ]
  },
  {
   "cell_type": "code",
   "execution_count": 394,
   "metadata": {
    "collapsed": true
   },
   "outputs": [],
   "source": [
    "# Create RGB vectors for training and test sets\n",
    "\n",
    "RGB_tr_vec = np.array([tr.flatten() for tr in RGB_tr_vec])\n",
    "RGB_ts_vec = np.array([ts.flatten() for ts in RGB_ts_vec])"
   ]
  },
  {
   "cell_type": "code",
   "execution_count": 395,
   "metadata": {
    "collapsed": false
   },
   "outputs": [
    {
     "name": "stdout",
     "output_type": "stream",
     "text": [
      "(7178, 768)\n",
      "(1795, 768)\n"
     ]
    }
   ],
   "source": [
    "print(RGB_tr_vec.shape)\n",
    "print(RGB_ts_vec.shape)"
   ]
  },
  {
   "cell_type": "markdown",
   "metadata": {},
   "source": [
    "## HSV Histograms "
   ]
  },
  {
   "cell_type": "code",
   "execution_count": 404,
   "metadata": {
    "collapsed": false
   },
   "outputs": [],
   "source": [
    "# Each image will be bined to a flattened numpy array\n",
    "# of length (180+256+256) based on HSV histograms\n",
    "\n",
    "def hsv_histvec(img):\n",
    "    hsv = []\n",
    "    hsvbins=[180, 256, 256]\n",
    "    for i in range(3):\n",
    "        channel = img[:,:,i].flatten()\n",
    "        (hsv_ct, _) = np.histogram(channel, bins=hsvbins[i])\n",
    "        hsv.append(hsv_ct)\n",
    "    [H, S, V] = hsv\n",
    "    hsv_vec = np.concatenate((H, S, V))\n",
    "    return hsv_vec"
   ]
  },
  {
   "cell_type": "code",
   "execution_count": 405,
   "metadata": {
    "collapsed": false
   },
   "outputs": [
    {
     "name": "stdout",
     "output_type": "stream",
     "text": [
      "(692,)\n"
     ]
    }
   ],
   "source": [
    "img1_vec = hsv_histvec(images[1])\n",
    "print(img1_vec.shape)"
   ]
  },
  {
   "cell_type": "code",
   "execution_count": 406,
   "metadata": {
    "collapsed": false
   },
   "outputs": [],
   "source": [
    "# Create HSV vectors for training and testing sets\n",
    "\n",
    "HSV_tr_vec = np.array([hsv_histvec(tr) for tr in x_train])\n",
    "HSV_ts_vec = np.array([hsv_histvec(ts) for ts in x_test])                    "
   ]
  },
  {
   "cell_type": "code",
   "execution_count": 408,
   "metadata": {
    "collapsed": false
   },
   "outputs": [
    {
     "name": "stdout",
     "output_type": "stream",
     "text": [
      "(7178, 692)\n",
      "(1795, 692)\n"
     ]
    }
   ],
   "source": [
    "print(HSV_tr_vec.shape)\n",
    "print(HSV_ts_vec.shape)"
   ]
  },
  {
   "cell_type": "markdown",
   "metadata": {},
   "source": [
    "## 3. Compare Classification Results"
   ]
  },
  {
   "cell_type": "code",
   "execution_count": 455,
   "metadata": {
    "collapsed": true
   },
   "outputs": [],
   "source": [
    "L = x_test.shape[0]\n",
    "k = 5   # use KNN = 5"
   ]
  },
  {
   "cell_type": "markdown",
   "metadata": {},
   "source": [
    "### Majoriety Voting Classification Using Euclidean Distance KNN"
   ]
  },
  {
   "cell_type": "markdown",
   "metadata": {},
   "source": [
    "#### Prediction Accuracies using Euclidean Distance KNN:\n",
    "\n",
    "Accuracy for Method AE is: &nbsp;&nbsp;&nbsp;&nbsp;&nbsp;__0.38272980501392756__  \n",
    "Accuracy for Method SVD is: &nbsp;&nbsp;&nbsp;__0.3392757660167131__  \n",
    "Accuracy for Method RGB is: &nbsp;&nbsp;&nbsp;__0.3532033426183844__  \n",
    "Accuracy for Method HSV is: &nbsp;&nbsp;&nbsp;&nbsp;__0.3153203342618384__  "
   ]
  },
  {
   "cell_type": "code",
   "execution_count": 540,
   "metadata": {
    "collapsed": false
   },
   "outputs": [],
   "source": [
    "# Euclidean Distance KNN function\n",
    "\n",
    "def euc_knn(train, test, k, L):\n",
    "    KNN = np.zeros(shape=(L, k))\n",
    "    disM = euclidean_distances(test, train)\n",
    "    ct = 0\n",
    "    for line in disM:\n",
    "        KNN[ct, :] = np.argsort(line)[:k]\n",
    "        ct += 1\n",
    "    return KNN"
   ]
  },
  {
   "cell_type": "code",
   "execution_count": 541,
   "metadata": {
    "collapsed": false
   },
   "outputs": [],
   "source": [
    "# Calculate KNN from datasets generated using 4 methods\n",
    "\n",
    "knn_AE = euc_knn(aetr_vec, aets_vec, k, L)\n",
    "knn_SVD = euc_knn(svd_tr_encoded, svd_ts_encoded, k, L)\n",
    "knn_RGB = euc_knn(RGB_tr_vec, RGB_ts_vec, k, L)\n",
    "knn_HSV = euc_knn(HSV_tr_vec, HSV_ts_vec, k, L)"
   ]
  },
  {
   "cell_type": "code",
   "execution_count": 542,
   "metadata": {
    "collapsed": false
   },
   "outputs": [],
   "source": [
    "# Function to get the label\n",
    "\n",
    "def get_label(y_train, indM, k, L):\n",
    "    indM = indM.astype(int)\n",
    "    label = np.zeros(shape=(L, k))\n",
    "    for i in range(L):\n",
    "        label[i] = y_train[indM[i]]\n",
    "    return label"
   ]
  },
  {
   "cell_type": "code",
   "execution_count": 543,
   "metadata": {
    "collapsed": false
   },
   "outputs": [],
   "source": [
    "knnlab_AE = get_label(y_train, knn_AE, k, L).astype(int)\n",
    "knnlab_SVD = get_label(y_train, knn_SVD, k, L).astype(int)\n",
    "knnlab_RGB = get_label(y_train, knn_RGB, k, L).astype(int)\n",
    "knnlab_HSV = get_label(y_train, knn_HSV, k, L).astype(int)"
   ]
  },
  {
   "cell_type": "code",
   "execution_count": 544,
   "metadata": {
    "collapsed": false
   },
   "outputs": [],
   "source": [
    "pred_AE = np.array([Counter(votes).most_common(1)[0][0] for votes in knnlab_AE])\n",
    "pred_SVD = np.array([Counter(votes).most_common(1)[0][0] for votes in knnlab_SVD])\n",
    "pred_RGB = np.array([Counter(votes).most_common(1)[0][0] for votes in knnlab_RGB])\n",
    "pred_HSV= np.array([Counter(votes).most_common(1)[0][0] for votes in knnlab_HSV])"
   ]
  },
  {
   "cell_type": "code",
   "execution_count": 545,
   "metadata": {
    "collapsed": false
   },
   "outputs": [],
   "source": [
    "diff_AE = pred_AE - y_test\n",
    "acu_AE = np.count_nonzero(diff_AE==0)/L\n",
    "diff_SVD = pred_SVD - y_test\n",
    "acu_SVD = np.count_nonzero(diff_SVD==0)/L\n",
    "diff_RGB = pred_RGB - y_test\n",
    "acu_RGB = np.count_nonzero(diff_RGB==0)/L\n",
    "diff_HSV = pred_HSV - y_test\n",
    "acu_HSV = np.count_nonzero(diff_HSV==0)/L"
   ]
  },
  {
   "cell_type": "code",
   "execution_count": 755,
   "metadata": {
    "collapsed": false
   },
   "outputs": [
    {
     "name": "stdout",
     "output_type": "stream",
     "text": [
      "\n",
      "Accuracy Results (Euclidean Distance KNN:\n",
      "\n",
      "Accuracy for Method AE is: 0.38272980501392756\n",
      "Accuracy for Method SVD is: 0.3392757660167131\n",
      "Accuracy for Method RGB is: 0.3532033426183844\n",
      "Accuracy for Method HSV is: 0.3153203342618384\n",
      "\n"
     ]
    }
   ],
   "source": [
    "Method = ['AE', 'SVD', 'RGB', 'HSV']\n",
    "acu = [acu_AE, acu_SVD, acu_RGB, acu_HSV]\n",
    "print('\\nAccuracy Results (Euclidean Distance KNN:\\n')\n",
    "for i in range(4):\n",
    "    print('Accuracy for Method', Method[i],'is:', acu[i])\n",
    "print()"
   ]
  },
  {
   "cell_type": "markdown",
   "metadata": {},
   "source": [
    "--------------------------------------------------------------------------------------------------------------------  \n",
    "### Majoriety Voting Classification Using Pearson Correlation KNN"
   ]
  },
  {
   "cell_type": "markdown",
   "metadata": {},
   "source": [
    "#### Prediction Accuracies (Pearson Correlation KNN):\n",
    "\n",
    "Accuracy for Method AE is: &nbsp;&nbsp;&nbsp;&nbsp;&nbsp;__0.4155988857938719__  \n",
    "Accuracy for Method SVD is: &nbsp;&nbsp;&nbsp;&nbsp;__0.40445682451253484__  \n",
    "Accuracy for Method RGB is: &nbsp;&nbsp;&nbsp;&nbsp;__0.3793871866295265__  \n",
    "Accuracy for Method HSV is: &nbsp;&nbsp;&nbsp;&nbsp;__0.3637883008356546__  \n"
   ]
  },
  {
   "cell_type": "code",
   "execution_count": 757,
   "metadata": {
    "collapsed": true
   },
   "outputs": [],
   "source": [
    "def pearson_matrix(test, train):\n",
    "    M = np.corrcoef(test, train)\n",
    "    dim = test.shape[0]\n",
    "    return M[:dim, dim:]"
   ]
  },
  {
   "cell_type": "code",
   "execution_count": 758,
   "metadata": {
    "collapsed": true
   },
   "outputs": [],
   "source": [
    "def pearson_knn(train, test, k, L):\n",
    "    KNN = np.zeros(shape=(L, k))\n",
    "    disM = pearson_matrix(test, train)\n",
    "    ct = 0\n",
    "    for line in disM:\n",
    "        KNN[ct, :] = np.argsort(line)[-k:][::-1]\n",
    "        ct += 1\n",
    "    return KNN"
   ]
  },
  {
   "cell_type": "code",
   "execution_count": 759,
   "metadata": {
    "collapsed": true
   },
   "outputs": [],
   "source": [
    "pknn_AE = pearson_knn(aetr_vec, aets_vec, k, L)\n",
    "pknn_SVD = pearson_knn(svd_tr_encoded, svd_ts_encoded, k, L)\n",
    "pknn_RGB = pearson_knn(RGB_tr_vec, RGB_ts_vec, k, L)\n",
    "pknn_HSV = pearson_knn(HSV_tr_vec, HSV_ts_vec, k, L)"
   ]
  },
  {
   "cell_type": "code",
   "execution_count": 760,
   "metadata": {
    "collapsed": true
   },
   "outputs": [],
   "source": [
    "pknnlab_AE = get_label(y_train, pknn_AE, k, L).astype(int)\n",
    "pknnlab_SVD = get_label(y_train, pknn_SVD, k, L).astype(int)\n",
    "pknnlab_RGB = get_label(y_train, pknn_RGB, k, L).astype(int)\n",
    "pknnlab_HSV = get_label(y_train, pknn_HSV, k, L).astype(int)"
   ]
  },
  {
   "cell_type": "code",
   "execution_count": 761,
   "metadata": {
    "collapsed": true
   },
   "outputs": [],
   "source": [
    "ppred_AE = np.array([Counter(votes).most_common(1)[0][0] for votes in pknnlab_AE])\n",
    "ppred_SVD = np.array([Counter(votes).most_common(1)[0][0] for votes in pknnlab_SVD])\n",
    "ppred_RGB = np.array([Counter(votes).most_common(1)[0][0] for votes in pknnlab_RGB])\n",
    "ppred_HSV= np.array([Counter(votes).most_common(1)[0][0] for votes in pknnlab_HSV])"
   ]
  },
  {
   "cell_type": "code",
   "execution_count": 762,
   "metadata": {
    "collapsed": false
   },
   "outputs": [],
   "source": [
    "pdiff_AE = ppred_AE - y_test\n",
    "pacu_AE = np.count_nonzero(pdiff_AE==0)/L\n",
    "pdiff_SVD = ppred_SVD - y_test\n",
    "pacu_SVD = np.count_nonzero(pdiff_SVD==0)/L\n",
    "pdiff_RGB = ppred_RGB - y_test\n",
    "pacu_RGB = np.count_nonzero(pdiff_RGB==0)/L\n",
    "pdiff_HSV = ppred_HSV - y_test\n",
    "pacu_HSV = np.count_nonzero(pdiff_HSV==0)/L"
   ]
  },
  {
   "cell_type": "code",
   "execution_count": 763,
   "metadata": {
    "collapsed": false
   },
   "outputs": [
    {
     "name": "stdout",
     "output_type": "stream",
     "text": [
      "\n",
      "Accuracy Results (Pearson Coefficient KNN:\n",
      "\n",
      "Accuracy for Method AE is: 0.4155988857938719\n",
      "Accuracy for Method SVD is: 0.40445682451253484\n",
      "Accuracy for Method RGB is: 0.3793871866295265\n",
      "Accuracy for Method HSV is: 0.3637883008356546\n",
      "\n"
     ]
    }
   ],
   "source": [
    "pacu = [pacu_AE, pacu_SVD, pacu_RGB, pacu_HSV]\n",
    "print('\\nAccuracy Results (Pearson Coefficient KNN:\\n')\n",
    "for i in range(4):\n",
    "    print('Accuracy for Method', Method[i],'is:', pacu[i])\n",
    "print()"
   ]
  },
  {
   "cell_type": "markdown",
   "metadata": {},
   "source": [
    "## Construct Eight 6x6 Confusion Matrics  \n",
    "### 8 matrices = 4 vectorization methods * 2 KNN measuring approaches"
   ]
  },
  {
   "cell_type": "code",
   "execution_count": 778,
   "metadata": {
    "collapsed": false
   },
   "outputs": [],
   "source": [
    "def conf_mat(y_test, y_pred, L):\n",
    "    Mx = np.zeros(shape=(6, 6), dtype=int)\n",
    "    for i in range(L):\n",
    "        row = y_test[i]\n",
    "        col = y_pred[i]\n",
    "        Mx[row, col] += 1\n",
    "    return Mx"
   ]
  },
  {
   "cell_type": "code",
   "execution_count": 812,
   "metadata": {
    "collapsed": true
   },
   "outputs": [],
   "source": [
    "def print_accu(Mx, name):\n",
    "    acu_count = 0\n",
    "    for i in range(6):\n",
    "        acu_count += Mx[i, i]\n",
    "    total_count = Mx.sum()\n",
    "    accu = acu_count/total_count\n",
    "    print(name, 'accuracy:', accu)\n",
    "    print()"
   ]
  },
  {
   "cell_type": "code",
   "execution_count": 813,
   "metadata": {
    "collapsed": false
   },
   "outputs": [],
   "source": [
    "def Mx_print(Mx, name):\n",
    "    Catg = [\"Plant\", \"Geology\", \"Fungus\", \"Sport\", \"Person\", \"Animal\"]\n",
    "    df = DF(\n",
    "        {\"Plant\": Mx[0],\n",
    "         \"Geology\": Mx[1],\n",
    "         \"Fungus\": Mx[2],\n",
    "         \"Sport\": Mx[3],\n",
    "         \"Person\": Mx[4],\n",
    "         \"Animal\": Mx[5]},\n",
    "         index=Catg, columns=Catg)\n",
    "    display(df)\n",
    "    print_accu(Mx, name)"
   ]
  },
  {
   "cell_type": "code",
   "execution_count": 815,
   "metadata": {
    "collapsed": false
   },
   "outputs": [],
   "source": [
    "# Construct 8 confusion matrics\n",
    "\n",
    "Name = ['Autoencoder', 'SVD', 'RGB', 'HSV']\n",
    "\n",
    "Mx_E = []\n",
    "Mx_E.append(conf_mat(y_test, pred_AE, L))\n",
    "Mx_E.append(conf_mat(y_test, pred_SVD, L))\n",
    "Mx_E.append(conf_mat(y_test, pred_RGB, L))\n",
    "Mx_E.append(conf_mat(y_test, pred_HSV, L))\n",
    "\n",
    "Mx_P = []\n",
    "Mx_P.append(conf_mat(y_test, ppred_AE, L))\n",
    "Mx_P.append(conf_mat(y_test, ppred_SVD, L))\n",
    "Mx_P.append(conf_mat(y_test, ppred_RGB, L))\n",
    "Mx_P.append(conf_mat(y_test, ppred_HSV, L))"
   ]
  },
  {
   "cell_type": "markdown",
   "metadata": {},
   "source": [
    "------------------------------------------------------------------------------------------------"
   ]
  },
  {
   "cell_type": "markdown",
   "metadata": {},
   "source": [
    "## Table Display"
   ]
  },
  {
   "cell_type": "markdown",
   "metadata": {},
   "source": [
    "### Confusion Matrices (Euclidean Distance)  \n",
    "__ 4 Encoding/vectorization mehtod names and their corresponding accuracies are displayed beneath each table.__"
   ]
  },
  {
   "cell_type": "code",
   "execution_count": 816,
   "metadata": {
    "collapsed": false
   },
   "outputs": [
    {
     "data": {
      "text/html": [
       "<div>\n",
       "<table border=\"1\" class=\"dataframe\">\n",
       "  <thead>\n",
       "    <tr style=\"text-align: right;\">\n",
       "      <th></th>\n",
       "      <th>Plant</th>\n",
       "      <th>Geology</th>\n",
       "      <th>Fungus</th>\n",
       "      <th>Sport</th>\n",
       "      <th>Person</th>\n",
       "      <th>Animal</th>\n",
       "    </tr>\n",
       "  </thead>\n",
       "  <tbody>\n",
       "    <tr>\n",
       "      <th>Plant</th>\n",
       "      <td>113</td>\n",
       "      <td>24</td>\n",
       "      <td>37</td>\n",
       "      <td>38</td>\n",
       "      <td>18</td>\n",
       "      <td>47</td>\n",
       "    </tr>\n",
       "    <tr>\n",
       "      <th>Geology</th>\n",
       "      <td>51</td>\n",
       "      <td>281</td>\n",
       "      <td>67</td>\n",
       "      <td>154</td>\n",
       "      <td>104</td>\n",
       "      <td>128</td>\n",
       "    </tr>\n",
       "    <tr>\n",
       "      <th>Fungus</th>\n",
       "      <td>35</td>\n",
       "      <td>5</td>\n",
       "      <td>76</td>\n",
       "      <td>16</td>\n",
       "      <td>20</td>\n",
       "      <td>22</td>\n",
       "    </tr>\n",
       "    <tr>\n",
       "      <th>Sport</th>\n",
       "      <td>9</td>\n",
       "      <td>15</td>\n",
       "      <td>13</td>\n",
       "      <td>73</td>\n",
       "      <td>14</td>\n",
       "      <td>15</td>\n",
       "    </tr>\n",
       "    <tr>\n",
       "      <th>Person</th>\n",
       "      <td>7</td>\n",
       "      <td>5</td>\n",
       "      <td>2</td>\n",
       "      <td>10</td>\n",
       "      <td>46</td>\n",
       "      <td>16</td>\n",
       "    </tr>\n",
       "    <tr>\n",
       "      <th>Animal</th>\n",
       "      <td>41</td>\n",
       "      <td>25</td>\n",
       "      <td>43</td>\n",
       "      <td>67</td>\n",
       "      <td>60</td>\n",
       "      <td>98</td>\n",
       "    </tr>\n",
       "  </tbody>\n",
       "</table>\n",
       "</div>"
      ],
      "text/plain": [
       "         Plant  Geology  Fungus  Sport  Person  Animal\n",
       "Plant      113       24      37     38      18      47\n",
       "Geology     51      281      67    154     104     128\n",
       "Fungus      35        5      76     16      20      22\n",
       "Sport        9       15      13     73      14      15\n",
       "Person       7        5       2     10      46      16\n",
       "Animal      41       25      43     67      60      98"
      ]
     },
     "metadata": {},
     "output_type": "display_data"
    },
    {
     "name": "stdout",
     "output_type": "stream",
     "text": [
      "Autoencoder accuracy: 0.382729805014\n",
      "\n"
     ]
    },
    {
     "data": {
      "text/html": [
       "<div>\n",
       "<table border=\"1\" class=\"dataframe\">\n",
       "  <thead>\n",
       "    <tr style=\"text-align: right;\">\n",
       "      <th></th>\n",
       "      <th>Plant</th>\n",
       "      <th>Geology</th>\n",
       "      <th>Fungus</th>\n",
       "      <th>Sport</th>\n",
       "      <th>Person</th>\n",
       "      <th>Animal</th>\n",
       "    </tr>\n",
       "  </thead>\n",
       "  <tbody>\n",
       "    <tr>\n",
       "      <th>Plant</th>\n",
       "      <td>98</td>\n",
       "      <td>20</td>\n",
       "      <td>26</td>\n",
       "      <td>30</td>\n",
       "      <td>16</td>\n",
       "      <td>45</td>\n",
       "    </tr>\n",
       "    <tr>\n",
       "      <th>Geology</th>\n",
       "      <td>67</td>\n",
       "      <td>281</td>\n",
       "      <td>82</td>\n",
       "      <td>172</td>\n",
       "      <td>117</td>\n",
       "      <td>138</td>\n",
       "    </tr>\n",
       "    <tr>\n",
       "      <th>Fungus</th>\n",
       "      <td>23</td>\n",
       "      <td>5</td>\n",
       "      <td>56</td>\n",
       "      <td>8</td>\n",
       "      <td>18</td>\n",
       "      <td>21</td>\n",
       "    </tr>\n",
       "    <tr>\n",
       "      <th>Sport</th>\n",
       "      <td>8</td>\n",
       "      <td>10</td>\n",
       "      <td>7</td>\n",
       "      <td>47</td>\n",
       "      <td>13</td>\n",
       "      <td>18</td>\n",
       "    </tr>\n",
       "    <tr>\n",
       "      <th>Person</th>\n",
       "      <td>8</td>\n",
       "      <td>12</td>\n",
       "      <td>2</td>\n",
       "      <td>8</td>\n",
       "      <td>37</td>\n",
       "      <td>14</td>\n",
       "    </tr>\n",
       "    <tr>\n",
       "      <th>Animal</th>\n",
       "      <td>52</td>\n",
       "      <td>27</td>\n",
       "      <td>65</td>\n",
       "      <td>93</td>\n",
       "      <td>61</td>\n",
       "      <td>90</td>\n",
       "    </tr>\n",
       "  </tbody>\n",
       "</table>\n",
       "</div>"
      ],
      "text/plain": [
       "         Plant  Geology  Fungus  Sport  Person  Animal\n",
       "Plant       98       20      26     30      16      45\n",
       "Geology     67      281      82    172     117     138\n",
       "Fungus      23        5      56      8      18      21\n",
       "Sport        8       10       7     47      13      18\n",
       "Person       8       12       2      8      37      14\n",
       "Animal      52       27      65     93      61      90"
      ]
     },
     "metadata": {},
     "output_type": "display_data"
    },
    {
     "name": "stdout",
     "output_type": "stream",
     "text": [
      "SVD accuracy: 0.339275766017\n",
      "\n"
     ]
    },
    {
     "data": {
      "text/html": [
       "<div>\n",
       "<table border=\"1\" class=\"dataframe\">\n",
       "  <thead>\n",
       "    <tr style=\"text-align: right;\">\n",
       "      <th></th>\n",
       "      <th>Plant</th>\n",
       "      <th>Geology</th>\n",
       "      <th>Fungus</th>\n",
       "      <th>Sport</th>\n",
       "      <th>Person</th>\n",
       "      <th>Animal</th>\n",
       "    </tr>\n",
       "  </thead>\n",
       "  <tbody>\n",
       "    <tr>\n",
       "      <th>Plant</th>\n",
       "      <td>104</td>\n",
       "      <td>27</td>\n",
       "      <td>44</td>\n",
       "      <td>39</td>\n",
       "      <td>8</td>\n",
       "      <td>54</td>\n",
       "    </tr>\n",
       "    <tr>\n",
       "      <th>Geology</th>\n",
       "      <td>21</td>\n",
       "      <td>154</td>\n",
       "      <td>18</td>\n",
       "      <td>50</td>\n",
       "      <td>38</td>\n",
       "      <td>48</td>\n",
       "    </tr>\n",
       "    <tr>\n",
       "      <th>Fungus</th>\n",
       "      <td>72</td>\n",
       "      <td>62</td>\n",
       "      <td>133</td>\n",
       "      <td>101</td>\n",
       "      <td>71</td>\n",
       "      <td>90</td>\n",
       "    </tr>\n",
       "    <tr>\n",
       "      <th>Sport</th>\n",
       "      <td>21</td>\n",
       "      <td>27</td>\n",
       "      <td>8</td>\n",
       "      <td>98</td>\n",
       "      <td>35</td>\n",
       "      <td>30</td>\n",
       "    </tr>\n",
       "    <tr>\n",
       "      <th>Person</th>\n",
       "      <td>12</td>\n",
       "      <td>25</td>\n",
       "      <td>13</td>\n",
       "      <td>21</td>\n",
       "      <td>77</td>\n",
       "      <td>36</td>\n",
       "    </tr>\n",
       "    <tr>\n",
       "      <th>Animal</th>\n",
       "      <td>26</td>\n",
       "      <td>60</td>\n",
       "      <td>22</td>\n",
       "      <td>49</td>\n",
       "      <td>33</td>\n",
       "      <td>68</td>\n",
       "    </tr>\n",
       "  </tbody>\n",
       "</table>\n",
       "</div>"
      ],
      "text/plain": [
       "         Plant  Geology  Fungus  Sport  Person  Animal\n",
       "Plant      104       27      44     39       8      54\n",
       "Geology     21      154      18     50      38      48\n",
       "Fungus      72       62     133    101      71      90\n",
       "Sport       21       27       8     98      35      30\n",
       "Person      12       25      13     21      77      36\n",
       "Animal      26       60      22     49      33      68"
      ]
     },
     "metadata": {},
     "output_type": "display_data"
    },
    {
     "name": "stdout",
     "output_type": "stream",
     "text": [
      "RGB accuracy: 0.353203342618\n",
      "\n"
     ]
    },
    {
     "data": {
      "text/html": [
       "<div>\n",
       "<table border=\"1\" class=\"dataframe\">\n",
       "  <thead>\n",
       "    <tr style=\"text-align: right;\">\n",
       "      <th></th>\n",
       "      <th>Plant</th>\n",
       "      <th>Geology</th>\n",
       "      <th>Fungus</th>\n",
       "      <th>Sport</th>\n",
       "      <th>Person</th>\n",
       "      <th>Animal</th>\n",
       "    </tr>\n",
       "  </thead>\n",
       "  <tbody>\n",
       "    <tr>\n",
       "      <th>Plant</th>\n",
       "      <td>63</td>\n",
       "      <td>33</td>\n",
       "      <td>32</td>\n",
       "      <td>23</td>\n",
       "      <td>15</td>\n",
       "      <td>43</td>\n",
       "    </tr>\n",
       "    <tr>\n",
       "      <th>Geology</th>\n",
       "      <td>32</td>\n",
       "      <td>127</td>\n",
       "      <td>13</td>\n",
       "      <td>33</td>\n",
       "      <td>27</td>\n",
       "      <td>32</td>\n",
       "    </tr>\n",
       "    <tr>\n",
       "      <th>Fungus</th>\n",
       "      <td>91</td>\n",
       "      <td>89</td>\n",
       "      <td>116</td>\n",
       "      <td>94</td>\n",
       "      <td>67</td>\n",
       "      <td>113</td>\n",
       "    </tr>\n",
       "    <tr>\n",
       "      <th>Sport</th>\n",
       "      <td>21</td>\n",
       "      <td>40</td>\n",
       "      <td>29</td>\n",
       "      <td>127</td>\n",
       "      <td>44</td>\n",
       "      <td>44</td>\n",
       "    </tr>\n",
       "    <tr>\n",
       "      <th>Person</th>\n",
       "      <td>17</td>\n",
       "      <td>25</td>\n",
       "      <td>20</td>\n",
       "      <td>26</td>\n",
       "      <td>74</td>\n",
       "      <td>35</td>\n",
       "    </tr>\n",
       "    <tr>\n",
       "      <th>Animal</th>\n",
       "      <td>32</td>\n",
       "      <td>41</td>\n",
       "      <td>28</td>\n",
       "      <td>55</td>\n",
       "      <td>35</td>\n",
       "      <td>59</td>\n",
       "    </tr>\n",
       "  </tbody>\n",
       "</table>\n",
       "</div>"
      ],
      "text/plain": [
       "         Plant  Geology  Fungus  Sport  Person  Animal\n",
       "Plant       63       33      32     23      15      43\n",
       "Geology     32      127      13     33      27      32\n",
       "Fungus      91       89     116     94      67     113\n",
       "Sport       21       40      29    127      44      44\n",
       "Person      17       25      20     26      74      35\n",
       "Animal      32       41      28     55      35      59"
      ]
     },
     "metadata": {},
     "output_type": "display_data"
    },
    {
     "name": "stdout",
     "output_type": "stream",
     "text": [
      "HSV accuracy: 0.315320334262\n",
      "\n"
     ]
    }
   ],
   "source": [
    "for i in range(4):\n",
    "    Mx_print(Mx_E[i], Name[i])"
   ]
  },
  {
   "cell_type": "markdown",
   "metadata": {},
   "source": [
    "### Confusion Matrices (Pearson Correlation)  \n",
    "__4 Encoding/vectorization mehtod names and their corresponding accuracies are displayed beneath each table.__"
   ]
  },
  {
   "cell_type": "code",
   "execution_count": 817,
   "metadata": {
    "collapsed": false
   },
   "outputs": [
    {
     "data": {
      "text/html": [
       "<div>\n",
       "<table border=\"1\" class=\"dataframe\">\n",
       "  <thead>\n",
       "    <tr style=\"text-align: right;\">\n",
       "      <th></th>\n",
       "      <th>Plant</th>\n",
       "      <th>Geology</th>\n",
       "      <th>Fungus</th>\n",
       "      <th>Sport</th>\n",
       "      <th>Person</th>\n",
       "      <th>Animal</th>\n",
       "    </tr>\n",
       "  </thead>\n",
       "  <tbody>\n",
       "    <tr>\n",
       "      <th>Plant</th>\n",
       "      <td>117</td>\n",
       "      <td>20</td>\n",
       "      <td>38</td>\n",
       "      <td>31</td>\n",
       "      <td>13</td>\n",
       "      <td>37</td>\n",
       "    </tr>\n",
       "    <tr>\n",
       "      <th>Geology</th>\n",
       "      <td>45</td>\n",
       "      <td>277</td>\n",
       "      <td>59</td>\n",
       "      <td>137</td>\n",
       "      <td>90</td>\n",
       "      <td>109</td>\n",
       "    </tr>\n",
       "    <tr>\n",
       "      <th>Fungus</th>\n",
       "      <td>38</td>\n",
       "      <td>12</td>\n",
       "      <td>84</td>\n",
       "      <td>28</td>\n",
       "      <td>23</td>\n",
       "      <td>32</td>\n",
       "    </tr>\n",
       "    <tr>\n",
       "      <th>Sport</th>\n",
       "      <td>11</td>\n",
       "      <td>15</td>\n",
       "      <td>7</td>\n",
       "      <td>88</td>\n",
       "      <td>10</td>\n",
       "      <td>23</td>\n",
       "    </tr>\n",
       "    <tr>\n",
       "      <th>Person</th>\n",
       "      <td>14</td>\n",
       "      <td>13</td>\n",
       "      <td>9</td>\n",
       "      <td>18</td>\n",
       "      <td>82</td>\n",
       "      <td>27</td>\n",
       "    </tr>\n",
       "    <tr>\n",
       "      <th>Animal</th>\n",
       "      <td>31</td>\n",
       "      <td>18</td>\n",
       "      <td>41</td>\n",
       "      <td>56</td>\n",
       "      <td>44</td>\n",
       "      <td>98</td>\n",
       "    </tr>\n",
       "  </tbody>\n",
       "</table>\n",
       "</div>"
      ],
      "text/plain": [
       "         Plant  Geology  Fungus  Sport  Person  Animal\n",
       "Plant      117       20      38     31      13      37\n",
       "Geology     45      277      59    137      90     109\n",
       "Fungus      38       12      84     28      23      32\n",
       "Sport       11       15       7     88      10      23\n",
       "Person      14       13       9     18      82      27\n",
       "Animal      31       18      41     56      44      98"
      ]
     },
     "metadata": {},
     "output_type": "display_data"
    },
    {
     "name": "stdout",
     "output_type": "stream",
     "text": [
      "Autoencoder accuracy: 0.415598885794\n",
      "\n"
     ]
    },
    {
     "data": {
      "text/html": [
       "<div>\n",
       "<table border=\"1\" class=\"dataframe\">\n",
       "  <thead>\n",
       "    <tr style=\"text-align: right;\">\n",
       "      <th></th>\n",
       "      <th>Plant</th>\n",
       "      <th>Geology</th>\n",
       "      <th>Fungus</th>\n",
       "      <th>Sport</th>\n",
       "      <th>Person</th>\n",
       "      <th>Animal</th>\n",
       "    </tr>\n",
       "  </thead>\n",
       "  <tbody>\n",
       "    <tr>\n",
       "      <th>Plant</th>\n",
       "      <td>97</td>\n",
       "      <td>14</td>\n",
       "      <td>29</td>\n",
       "      <td>17</td>\n",
       "      <td>8</td>\n",
       "      <td>14</td>\n",
       "    </tr>\n",
       "    <tr>\n",
       "      <th>Geology</th>\n",
       "      <td>53</td>\n",
       "      <td>245</td>\n",
       "      <td>44</td>\n",
       "      <td>104</td>\n",
       "      <td>78</td>\n",
       "      <td>81</td>\n",
       "    </tr>\n",
       "    <tr>\n",
       "      <th>Fungus</th>\n",
       "      <td>30</td>\n",
       "      <td>16</td>\n",
       "      <td>81</td>\n",
       "      <td>13</td>\n",
       "      <td>16</td>\n",
       "      <td>32</td>\n",
       "    </tr>\n",
       "    <tr>\n",
       "      <th>Sport</th>\n",
       "      <td>14</td>\n",
       "      <td>20</td>\n",
       "      <td>8</td>\n",
       "      <td>99</td>\n",
       "      <td>12</td>\n",
       "      <td>28</td>\n",
       "    </tr>\n",
       "    <tr>\n",
       "      <th>Person</th>\n",
       "      <td>34</td>\n",
       "      <td>38</td>\n",
       "      <td>48</td>\n",
       "      <td>66</td>\n",
       "      <td>99</td>\n",
       "      <td>66</td>\n",
       "    </tr>\n",
       "    <tr>\n",
       "      <th>Animal</th>\n",
       "      <td>28</td>\n",
       "      <td>22</td>\n",
       "      <td>28</td>\n",
       "      <td>59</td>\n",
       "      <td>49</td>\n",
       "      <td>105</td>\n",
       "    </tr>\n",
       "  </tbody>\n",
       "</table>\n",
       "</div>"
      ],
      "text/plain": [
       "         Plant  Geology  Fungus  Sport  Person  Animal\n",
       "Plant       97       14      29     17       8      14\n",
       "Geology     53      245      44    104      78      81\n",
       "Fungus      30       16      81     13      16      32\n",
       "Sport       14       20       8     99      12      28\n",
       "Person      34       38      48     66      99      66\n",
       "Animal      28       22      28     59      49     105"
      ]
     },
     "metadata": {},
     "output_type": "display_data"
    },
    {
     "name": "stdout",
     "output_type": "stream",
     "text": [
      "SVD accuracy: 0.404456824513\n",
      "\n"
     ]
    },
    {
     "data": {
      "text/html": [
       "<div>\n",
       "<table border=\"1\" class=\"dataframe\">\n",
       "  <thead>\n",
       "    <tr style=\"text-align: right;\">\n",
       "      <th></th>\n",
       "      <th>Plant</th>\n",
       "      <th>Geology</th>\n",
       "      <th>Fungus</th>\n",
       "      <th>Sport</th>\n",
       "      <th>Person</th>\n",
       "      <th>Animal</th>\n",
       "    </tr>\n",
       "  </thead>\n",
       "  <tbody>\n",
       "    <tr>\n",
       "      <th>Plant</th>\n",
       "      <td>125</td>\n",
       "      <td>31</td>\n",
       "      <td>53</td>\n",
       "      <td>46</td>\n",
       "      <td>18</td>\n",
       "      <td>58</td>\n",
       "    </tr>\n",
       "    <tr>\n",
       "      <th>Geology</th>\n",
       "      <td>32</td>\n",
       "      <td>186</td>\n",
       "      <td>36</td>\n",
       "      <td>76</td>\n",
       "      <td>47</td>\n",
       "      <td>71</td>\n",
       "    </tr>\n",
       "    <tr>\n",
       "      <th>Fungus</th>\n",
       "      <td>60</td>\n",
       "      <td>43</td>\n",
       "      <td>108</td>\n",
       "      <td>68</td>\n",
       "      <td>59</td>\n",
       "      <td>70</td>\n",
       "    </tr>\n",
       "    <tr>\n",
       "      <th>Sport</th>\n",
       "      <td>4</td>\n",
       "      <td>25</td>\n",
       "      <td>4</td>\n",
       "      <td>97</td>\n",
       "      <td>21</td>\n",
       "      <td>21</td>\n",
       "    </tr>\n",
       "    <tr>\n",
       "      <th>Person</th>\n",
       "      <td>13</td>\n",
       "      <td>21</td>\n",
       "      <td>14</td>\n",
       "      <td>16</td>\n",
       "      <td>91</td>\n",
       "      <td>32</td>\n",
       "    </tr>\n",
       "    <tr>\n",
       "      <th>Animal</th>\n",
       "      <td>22</td>\n",
       "      <td>49</td>\n",
       "      <td>23</td>\n",
       "      <td>55</td>\n",
       "      <td>26</td>\n",
       "      <td>74</td>\n",
       "    </tr>\n",
       "  </tbody>\n",
       "</table>\n",
       "</div>"
      ],
      "text/plain": [
       "         Plant  Geology  Fungus  Sport  Person  Animal\n",
       "Plant      125       31      53     46      18      58\n",
       "Geology     32      186      36     76      47      71\n",
       "Fungus      60       43     108     68      59      70\n",
       "Sport        4       25       4     97      21      21\n",
       "Person      13       21      14     16      91      32\n",
       "Animal      22       49      23     55      26      74"
      ]
     },
     "metadata": {},
     "output_type": "display_data"
    },
    {
     "name": "stdout",
     "output_type": "stream",
     "text": [
      "RGB accuracy: 0.37938718663\n",
      "\n"
     ]
    },
    {
     "data": {
      "text/html": [
       "<div>\n",
       "<table border=\"1\" class=\"dataframe\">\n",
       "  <thead>\n",
       "    <tr style=\"text-align: right;\">\n",
       "      <th></th>\n",
       "      <th>Plant</th>\n",
       "      <th>Geology</th>\n",
       "      <th>Fungus</th>\n",
       "      <th>Sport</th>\n",
       "      <th>Person</th>\n",
       "      <th>Animal</th>\n",
       "    </tr>\n",
       "  </thead>\n",
       "  <tbody>\n",
       "    <tr>\n",
       "      <th>Plant</th>\n",
       "      <td>97</td>\n",
       "      <td>39</td>\n",
       "      <td>54</td>\n",
       "      <td>38</td>\n",
       "      <td>20</td>\n",
       "      <td>56</td>\n",
       "    </tr>\n",
       "    <tr>\n",
       "      <th>Geology</th>\n",
       "      <td>31</td>\n",
       "      <td>165</td>\n",
       "      <td>28</td>\n",
       "      <td>42</td>\n",
       "      <td>40</td>\n",
       "      <td>66</td>\n",
       "    </tr>\n",
       "    <tr>\n",
       "      <th>Fungus</th>\n",
       "      <td>61</td>\n",
       "      <td>51</td>\n",
       "      <td>86</td>\n",
       "      <td>56</td>\n",
       "      <td>47</td>\n",
       "      <td>64</td>\n",
       "    </tr>\n",
       "    <tr>\n",
       "      <th>Sport</th>\n",
       "      <td>15</td>\n",
       "      <td>34</td>\n",
       "      <td>16</td>\n",
       "      <td>145</td>\n",
       "      <td>36</td>\n",
       "      <td>37</td>\n",
       "    </tr>\n",
       "    <tr>\n",
       "      <th>Person</th>\n",
       "      <td>25</td>\n",
       "      <td>21</td>\n",
       "      <td>18</td>\n",
       "      <td>38</td>\n",
       "      <td>89</td>\n",
       "      <td>32</td>\n",
       "    </tr>\n",
       "    <tr>\n",
       "      <th>Animal</th>\n",
       "      <td>27</td>\n",
       "      <td>45</td>\n",
       "      <td>36</td>\n",
       "      <td>39</td>\n",
       "      <td>30</td>\n",
       "      <td>71</td>\n",
       "    </tr>\n",
       "  </tbody>\n",
       "</table>\n",
       "</div>"
      ],
      "text/plain": [
       "         Plant  Geology  Fungus  Sport  Person  Animal\n",
       "Plant       97       39      54     38      20      56\n",
       "Geology     31      165      28     42      40      66\n",
       "Fungus      61       51      86     56      47      64\n",
       "Sport       15       34      16    145      36      37\n",
       "Person      25       21      18     38      89      32\n",
       "Animal      27       45      36     39      30      71"
      ]
     },
     "metadata": {},
     "output_type": "display_data"
    },
    {
     "name": "stdout",
     "output_type": "stream",
     "text": [
      "HSV accuracy: 0.363788300836\n",
      "\n"
     ]
    }
   ],
   "source": [
    "for i in range(4):\n",
    "    Mx_print(Mx_P[i], Name[i])"
   ]
  },
  {
   "cell_type": "markdown",
   "metadata": {},
   "source": [
    "## Summary  \n"
   ]
  },
  {
   "cell_type": "markdown",
   "metadata": {},
   "source": [
    "### Overall:  \n",
    "__A. the accuracies using majoriety voting from KNNs obtained using Pearson Correlation are higher than those otained from Euclidean Distance.__    \n",
    "__B. the accuracies measured directly from pairing predicted and real labels of test sets match those calculated from confusing matrices.__"
   ]
  }
 ],
 "metadata": {
  "kernelspec": {
   "display_name": "Python 3",
   "language": "python",
   "name": "python3"
  },
  "language_info": {
   "codemirror_mode": {
    "name": "ipython",
    "version": 3
   },
   "file_extension": ".py",
   "mimetype": "text/x-python",
   "name": "python",
   "nbconvert_exporter": "python",
   "pygments_lexer": "ipython3",
   "version": "3.6.0"
  }
 },
 "nbformat": 4,
 "nbformat_minor": 2
}
